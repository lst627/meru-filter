{
 "cells": [
  {
   "cell_type": "code",
   "execution_count": null,
   "metadata": {},
   "outputs": [],
   "source": [
    "import glob\n",
    "import pickle\n",
    "import torch\n",
    "import pandas as pd\n",
    "import fsspec\n",
    "from baselines.apply_filter import load_metadata\n",
    "import os\n",
    "import random\n",
    "import matplotlib.pyplot as plt\n",
    "import seaborn as sns\n",
    "from math import log"
   ]
  },
  {
   "cell_type": "code",
   "execution_count": null,
   "metadata": {},
   "outputs": [],
   "source": [
    "file_list = glob.glob('/local1/siting/scores/*.pt')\n",
    "df_original = load_metadata('/local1/datasets/datacomp_small/metadata/', num_workers=os.cpu_count())\n",
    "\n",
    "file_path = random.choice(file_list)\n",
    "zipped_content = torch.load(file_path)\n",
    "meru_uid_collection, meru_score_collection = zip(*zipped_content)\n",
    "df = pd.DataFrame({'uid': meru_uid_collection, 'l_xtime': meru_score_collection})\n",
    "new_df = df_original[df_original['uid'].isin(df['uid'])]\n",
    "merged_df = pd.merge(new_df, df, on='uid')\n",
    "\n",
    "merged_df['text_length'] = merged_df['text'].apply(lambda x: len(x))\n",
    "merged_df['log_text_length'] = merged_df['text'].apply(lambda x: log(len(x)))"
   ]
  },
  {
   "cell_type": "code",
   "execution_count": null,
   "metadata": {},
   "outputs": [],
   "source": [
    "plt.figure(figsize=(6, 6))\n",
    "sns.kdeplot(merged_df[\"clip_l14_similarity_score\"], cumulative=True, bw_adjust=0.5)\n",
    "\n",
    "plt.title('CLIP score CDF')\n",
    "plt.xlabel('CLIP score')\n",
    "plt.ylabel('Cumulative Density')\n",
    "plt.show()\n",
    "plt.savefig(\"./kde-clip.pdf\")\n",
    "\n",
    "plt.figure(figsize=(6, 6))\n",
    "sns.kdeplot(merged_df[\"l_xtime\"], cumulative=True, bw_adjust=0.5)\n",
    "\n",
    "plt.title('MERU x_time CDF')\n",
    "plt.xlabel(\"MERU x_time\")\n",
    "plt.ylabel('Cumulative Density')\n",
    "plt.show()\n",
    "plt.savefig(\"./kde-meru.pdf\")"
   ]
  },
  {
   "cell_type": "code",
   "execution_count": null,
   "metadata": {},
   "outputs": [],
   "source": [
    "plt.figure(figsize=(6,6))\n",
    "plt.scatter(merged_df[\"l_xtime\"], merged_df[\"clip_l14_similarity_score\"], s=1)\n",
    "\n",
    "x_max = merged_df[\"l_xtime\"].max()\n",
    "y_max = merged_df[\"clip_l14_similarity_score\"].max()\n",
    "plt.hlines(y=0.24194336, xmin=3.1830077171325684, xmax=x_max, colors='red', linestyles='--')\n",
    "plt.vlines(x=3.1830077171325684, ymin=0.24194336, ymax=y_max, colors='red', linestyles='--')\n",
    "\n",
    "plt.hlines(y=0.22106934, xmin=3.210522413253784, xmax=x_max, colors='red', linestyles='--')\n",
    "plt.vlines(x=3.210522413253784, ymin=0.22106934, ymax=y_max, colors='red', linestyles='--')\n",
    "\n",
    "plt.hlines(y=0.20251465, xmin=3.214315414428711, xmax=x_max, colors='red', linestyles='--')\n",
    "plt.vlines(x=3.214315414428711, ymin=0.20251465, ymax=y_max, colors='red', linestyles='--')\n",
    "\n",
    "plt.hlines(y=0.1595459, xmin=3.217371940612793, xmax=x_max, colors='red', linestyles='--')\n",
    "plt.vlines(x=3.217371940612793, ymin=0.1595459, ymax=y_max, colors='red', linestyles='--')\n",
    "\n",
    "plt.hlines(y=-0.11401367, xmin=3.2183597087860107, xmax=x_max, colors='red', linestyles='--')\n",
    "plt.vlines(x=3.2183597087860107, ymin=-0.11401367, ymax=y_max, colors='red', linestyles='--')\n",
    "\n",
    "plt.xlabel(\"MERU x_time\")\n",
    "plt.ylabel(\"CLIP score\")\n",
    "plt.show()\n",
    "plt.savefig(\"scatter.pdf\")"
   ]
  },
  {
   "cell_type": "code",
   "execution_count": null,
   "metadata": {},
   "outputs": [],
   "source": [
    "plt.figure(figsize=(6,6))\n",
    "plt.scatter(merged_df[\"l_xtime\"], merged_df[\"text_length\"], s=1)\n",
    "plt.vlines(x=3.210522413253784, ymin=merged_df[\"text_length\"].min(), ymax=merged_df[\"text_length\"].max(), colors='orange', linestyles='--', label=\"MERU x_time \"+r'$75\\%$')\n",
    "plt.xlabel(\"MERU x_time\")\n",
    "plt.ylabel(\"Text length\")\n",
    "plt.legend()\n",
    "plt.show()\n",
    "plt.savefig(\"scatter-length.pdf\")\n",
    "\n",
    "plt.figure(figsize=(6,6))\n",
    "plt.scatter(merged_df[\"l_xtime\"], merged_df[\"log_text_length\"], s=1)\n",
    "plt.vlines(x=3.2183597087860107, ymin=merged_df[\"log_text_length\"].min(), ymax=merged_df[\"log_text_length\"].max(), colors='red', linestyles='--', label=\"MERU x_time \"+r'$30\\%$')\n",
    "plt.hlines(y=log(52), xmin=merged_df[\"l_xtime\"].min(), xmax=merged_df[\"l_xtime\"].max(), colors='orange', linestyles='--', label=\"Text length \"+r'$30\\%$')\n",
    "plt.xlabel(\"MERU x_time\")\n",
    "plt.ylabel(\"Log text length\")\n",
    "plt.legend()\n",
    "plt.show()\n",
    "plt.savefig(\"scatter-length-log.pdf\")"
   ]
  },
  {
   "cell_type": "code",
   "execution_count": null,
   "metadata": {},
   "outputs": [],
   "source": [
    "pd.set_option(\"display.max_colwidth\", 10000)\n",
    "with open(\"shortcaptions.txt\", \"w\") as f:\n",
    "    strange_df = merged_df[(merged_df[\"log_text_length\"] < 2.5)&(merged_df[\"l_xtime\"] >= 3.2183597087860107)]\n",
    "    f.write(strange_df[\"text\"].to_string(index=False))\n",
    "    f.close()\n",
    "\n",
    "with open(\"longcaptions.txt\", \"w\") as f:\n",
    "    strange_df2 = merged_df[(merged_df[\"log_text_length\"] >= 6.0)&(merged_df[\"l_xtime\"] < 3.2183597087860107)]\n",
    "    f.write(strange_df2[\"text\"].to_string(index=False))\n",
    "    f.close()"
   ]
  },
  {
   "cell_type": "code",
   "execution_count": null,
   "metadata": {},
   "outputs": [],
   "source": [
    "strange_df2 = merged_df[(merged_df[\"log_text_length\"] >= log(52))&(merged_df[\"l_xtime\"] >= 3.2183597087860107)]\n",
    "strange_df3 = merged_df[(merged_df[\"log_text_length\"] < log(52))&(merged_df[\"l_xtime\"] < 3.2183597087860107)]\n",
    "print((len(strange_df2)+len(strange_df3)) / len(merged_df))"
   ]
  }
 ],
 "metadata": {
  "language_info": {
   "name": "python"
  }
 },
 "nbformat": 4,
 "nbformat_minor": 2
}
